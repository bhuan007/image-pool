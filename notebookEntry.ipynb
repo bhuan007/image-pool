{
 "cells": [
  {
   "cell_type": "code",
   "execution_count": null,
   "metadata": {},
   "outputs": [],
   "source": [
    "from ImgurScraper import ImgurScraper\n",
    "\n",
    "print('What would you like to search from imgur?')\n",
    "\n",
    "sTerm = str(input())\n",
    "\n",
    "print('How many pictures would you want to download?')\n",
    "\n",
    "downloadNum = int(input())\n",
    "\n",
    "while True:\n",
    "    print(\"Would you like to generate and collect metadata to a csv file? (Y/N)\")\n",
    "    isOutputCSV = input().lower()\n",
    "\n",
    "    if (isOutputCSV == 'y'):\n",
    "        isOutputCSV = True\n",
    "        break\n",
    "    elif (isOutputCSV == 'n'):\n",
    "        isOutputCSV = False\n",
    "        break\n",
    "    else:\n",
    "        print('We did not understand your input try again.')\n",
    "\n",
    "scraper = ImgurScraper(sTerm, downloadNum, isOutputCSV)\n",
    "\n",
    "scraper.scrape()\n",
    "\n",
    "if (scraper.errorCount > 0):\n",
    "    print('Uh oh, there were problems with ' + str(scraper.errorCount) + ' images.')\n"
   ]
  },
  {
   "cell_type": "code",
   "execution_count": null,
   "metadata": {},
   "outputs": [],
   "source": []
  }
 ],
 "metadata": {
  "kernelspec": {
   "display_name": "Python 3",
   "language": "python",
   "name": "python3"
  },
  "language_info": {
   "codemirror_mode": {
    "name": "ipython",
    "version": 3
   },
   "file_extension": ".py",
   "mimetype": "text/x-python",
   "name": "python",
   "nbconvert_exporter": "python",
   "pygments_lexer": "ipython3",
   "version": "3.7.4"
  }
 },
 "nbformat": 4,
 "nbformat_minor": 2
}
